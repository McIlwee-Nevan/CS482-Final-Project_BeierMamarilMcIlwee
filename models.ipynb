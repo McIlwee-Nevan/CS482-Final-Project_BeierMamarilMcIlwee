{
  "cells": [
    {
      "cell_type": "markdown",
      "metadata": {
        "id": "view-in-github",
        "colab_type": "text"
      },
      "source": [
        "<a href=\"https://colab.research.google.com/github/McIlwee-Nevan/CS482-Final-Project_BeierMamarilMcIlwee/blob/main/models.ipynb\" target=\"_parent\"><img src=\"https://colab.research.google.com/assets/colab-badge.svg\" alt=\"Open In Colab\"/></a>"
      ]
    },
    {
      "cell_type": "code",
      "source": [
        "import kagglehub\n",
        "\n",
        "# Download latest version\n",
        "path = kagglehub.dataset_download(\"rtatman/deceptive-opinion-spam-corpus\")\n",
        "\n",
        "print(\"Path to dataset files:\", path)"
      ],
      "metadata": {
        "colab": {
          "base_uri": "https://localhost:8080/"
        },
        "id": "pQHEgK1dFDWa",
        "outputId": "a4bcdcb9-4e9e-47f6-844c-ecd0729aa7b2"
      },
      "execution_count": null,
      "outputs": [
        {
          "output_type": "stream",
          "name": "stdout",
          "text": [
            "Downloading from https://www.kaggle.com/api/v1/datasets/download/rtatman/deceptive-opinion-spam-corpus?dataset_version_number=2...\n"
          ]
        },
        {
          "output_type": "stream",
          "name": "stderr",
          "text": [
            "100%|██████████| 456k/456k [00:00<00:00, 47.3MB/s]"
          ]
        },
        {
          "output_type": "stream",
          "name": "stdout",
          "text": [
            "Extracting files...\n",
            "Path to dataset files: /root/.cache/kagglehub/datasets/rtatman/deceptive-opinion-spam-corpus/versions/2\n"
          ]
        },
        {
          "output_type": "stream",
          "name": "stderr",
          "text": [
            "\n"
          ]
        }
      ]
    },
    {
      "cell_type": "markdown",
      "metadata": {
        "id": "1EbqW6HY_eDT"
      },
      "source": [
        "Import Dataset and Preprocess"
      ]
    },
    {
      "cell_type": "code",
      "execution_count": null,
      "metadata": {
        "id": "Tbf8eM3a_eDV"
      },
      "outputs": [],
      "source": [
        "import pandas as pd\n",
        "import numpy as np\n",
        "from sklearn.feature_extraction.text import TfidfVectorizer\n",
        "from sklearn.model_selection import train_test_split\n",
        "\n",
        "data = pd.read_csv(path+\"/deceptive-opinion.csv\")\n",
        "X = np.copy(data['text'])\n",
        "y = np.copy(data['deceptive'])\n",
        "y = np.array(y == 'truthful').astype(int)\n",
        "\n",
        "X_train, X_test, y_train, y_test = train_test_split(\n",
        "    X, y, test_size=0.20, random_state=42)\n",
        "\n",
        "vectorizer = TfidfVectorizer()\n",
        "X_train = vectorizer.fit_transform(X_train)\n",
        "X_test = vectorizer.transform(X_test)\n"
      ]
    },
    {
      "cell_type": "markdown",
      "metadata": {
        "id": "nreddAGk_eDW"
      },
      "source": [
        "Next, build and evaluate the models:"
      ]
    },
    {
      "cell_type": "code",
      "execution_count": null,
      "metadata": {
        "id": "wkDR3II6_eDX",
        "outputId": "edd67c01-bb0f-48f6-fd5c-a975cbeaba3b",
        "colab": {
          "base_uri": "https://localhost:8080/"
        }
      },
      "outputs": [
        {
          "output_type": "stream",
          "name": "stdout",
          "text": [
            "Linear Regression R^2 Score: 0.5049\n",
            "Decision Tree Accuracy: 0.7156\n",
            "Decision Tree Precision: 0.7305, Recall: 0.7262, F1 Score: 0.7284, Support: nan\n",
            "Random Forest Accuracy: 0.8375\n",
            "Random Forest Precision: 0.8816, Recall: 0.7976, F1 Score: 0.8375, Support: nan\n",
            "XGBoost Accuracy: 0.7969\n",
            "XGBoost Precision: 0.8160, Recall: 0.7917, F1 Score: 0.8036, Support: nan\n"
          ]
        }
      ],
      "source": [
        "import numpy as np\n",
        "from sklearn.metrics import accuracy_score, precision_recall_fscore_support, mean_squared_error, r2_score\n",
        "from sklearn.linear_model import LinearRegression\n",
        "from sklearn.tree import DecisionTreeClassifier\n",
        "from sklearn.ensemble import RandomForestClassifier\n",
        "from xgboost import XGBClassifier\n",
        "\n",
        "# Define classifiers\n",
        "classifiers = [\n",
        "    LinearRegression(),\n",
        "    DecisionTreeClassifier(max_depth=10),\n",
        "    RandomForestClassifier(max_depth=20),\n",
        "    XGBClassifier()\n",
        "]\n",
        "\n",
        "# Define classifier labels\n",
        "classifier_labels = ['Linear Regression', 'Decision Tree', 'Random Forest', 'XGBoost']\n",
        "\n",
        "accuracies = np.zeros(4)\n",
        "precision = np.zeros(4)\n",
        "recall = np.zeros(4)\n",
        "f1 = np.zeros(4)\n",
        "support = np.zeros(4)\n",
        "\n",
        "index = 0\n",
        "for model in classifiers:\n",
        "    model.fit(X_train, y_train)\n",
        "    y_pred = model.predict(X_test)\n",
        "\n",
        "    if isinstance(model, LinearRegression):\n",
        "        accuracies[index] = r2_score(y_test, y_pred)\n",
        "        print(f'{classifier_labels[index]} R^2 Score: {accuracies[index]:.4f}')\n",
        "    else:\n",
        "        accuracies[index] = accuracy_score(y_true=y_test, y_pred=y_pred)\n",
        "        precision_score, recall_score, f1_score, support_score = precision_recall_fscore_support(y_true=y_test, y_pred=y_pred, average='binary')\n",
        "        precision[index] = precision_score\n",
        "        recall[index] = recall_score\n",
        "        f1[index] = f1_score\n",
        "        support[index] = support_score\n",
        "        print(f'{classifier_labels[index]} Accuracy: {accuracies[index]:.4f}')\n",
        "        print(f'{classifier_labels[index]} Precision: {precision[index]:.4f}, Recall: {recall[index]:.4f}, F1 Score: {f1[index]:.4f}}')\n",
        "\n",
        "    index += 1"
      ]
    },
    {
      "cell_type": "markdown",
      "source": [
        "Train and Test Neural Network"
      ],
      "metadata": {
        "id": "DbAXC9aMfD_4"
      }
    },
    {
      "cell_type": "code",
      "source": [
        "import torch\n",
        "import torch.nn as nn\n",
        "from torch.utils.data import DataLoader\n",
        "from sklearn.metrics import classification_report"
      ],
      "metadata": {
        "id": "NLkeg-b5fGOn"
      },
      "execution_count": null,
      "outputs": []
    },
    {
      "cell_type": "code",
      "source": [
        "device = torch.device('cuda' if torch.cuda.is_available() else 'cpu')"
      ],
      "metadata": {
        "id": "QJff4ro_oBF6"
      },
      "execution_count": null,
      "outputs": []
    },
    {
      "cell_type": "code",
      "source": [
        "# Create tensors from data set, create data loaders\n",
        "X_train_tensor = torch.from_numpy(X_train.todense()).to(torch.float32)\n",
        "X_test_tensor = torch.from_numpy(X_test.todense()).to(torch.float32)\n",
        "y_train_tensor = torch.from_numpy(y_train)\n",
        "y_test_tensor = torch.from_numpy(y_test)\n",
        "\n",
        "train_loader = DataLoader(list(zip(X_train_tensor, y_train_tensor)), batch_size=64, shuffle=True)\n",
        "test_loader = DataLoader(list(zip(X_test_tensor, y_test_tensor)), batch_size=64, shuffle=True)"
      ],
      "metadata": {
        "id": "0jLixnw7oBU9"
      },
      "execution_count": null,
      "outputs": []
    },
    {
      "cell_type": "code",
      "execution_count": null,
      "metadata": {
        "id": "8YCxJpGUZRDM"
      },
      "outputs": [],
      "source": [
        "class NeuralNet(nn.Module):\n",
        "    def __init__(self, input_dim : int):\n",
        "        super(NeuralNet, self).__init__()\n",
        "\n",
        "        self.fc1 = nn.Linear(input_dim, 400)\n",
        "        self.fc2 = nn.Linear(400, 200)\n",
        "        self.fc3 = nn.Linear(200, 100)\n",
        "        self.fc4 = nn.Linear(100, 2)\n",
        "\n",
        "        self.relu = nn.ReLU()\n",
        "\n",
        "    def forward(self, x):\n",
        "        out = self.relu(self.fc1(x))\n",
        "        out = self.relu(self.fc2(out))\n",
        "        out = self.relu(self.fc3(out))\n",
        "        out = self.relu(self.fc4(out))\n",
        "\n",
        "        return out"
      ]
    },
    {
      "cell_type": "code",
      "source": [
        "# Initialize model and choose criterion/optimizer\n",
        "nn_model = NeuralNet(8703)\n",
        "optimizer = torch.optim.Adam(nn_model.parameters(), lr=0.001)\n",
        "criterion = nn.CrossEntropyLoss()"
      ],
      "metadata": {
        "id": "G6MfJF0_oVyg"
      },
      "execution_count": null,
      "outputs": []
    },
    {
      "cell_type": "code",
      "source": [
        "# Train model\n",
        "num_epochs = 10\n",
        "loss_arr = np.zeros(num_epochs)\n",
        "\n",
        "for epoch in range(num_epochs):\n",
        "    nn_model.train()\n",
        "\n",
        "    for (x, y) in train_loader:\n",
        "        x, y = x.to(device), y.to(device)\n",
        "\n",
        "        z = nn_model.forward(x)\n",
        "        loss = criterion(z, y)\n",
        "        optimizer.zero_grad()\n",
        "        loss.backward()\n",
        "        optimizer.step()\n",
        "\n",
        "    print(f'Epoch [{epoch+1}/{num_epochs}], Loss: {loss.item():.4f}')\n",
        "    loss_arr[epoch] = loss.item()"
      ],
      "metadata": {
        "id": "W9Fjj-p1od0x"
      },
      "execution_count": null,
      "outputs": []
    },
    {
      "cell_type": "code",
      "source": [
        "def evaluate_model(model, data_loader):\n",
        "    model.eval()\n",
        "    y_true = []\n",
        "    y_pred = []\n",
        "    with torch.no_grad():\n",
        "        for (x, y) in data_loader:\n",
        "            x, y = x.to(device), y.to(device)  # Move data to GPU\n",
        "            z = model(x)\n",
        "            _, predicted = torch.max(z, 1)\n",
        "            y_true.extend(y.cpu().numpy())\n",
        "            y_pred.extend(predicted.cpu().numpy())\n",
        "    return y_true, y_pred"
      ],
      "metadata": {
        "id": "bWnm0PC7oi79"
      },
      "execution_count": null,
      "outputs": []
    },
    {
      "cell_type": "code",
      "source": [
        "# Get accuracy and print report\n",
        "y_true, y_pred = evaluate_model(model, test_loader)\n",
        "print(\"Classification Report: \\n\", classification_report(y_true, y_pred))\n",
        "print(\"Accuracy: \", accuracy_score(y_true, y_pred))"
      ],
      "metadata": {
        "id": "Pyx5jiIFo1kT"
      },
      "execution_count": null,
      "outputs": []
    },
    {
      "cell_type": "code",
      "source": [
        "# Save epochs, loss, and parameters\n",
        "torch.save({\n",
        "            'epoch': num_epochs,\n",
        "            'model_state_dict': nn_model.state_dict(),\n",
        "            'optimizer_state_dict': optimizer.state_dict(),\n",
        "            'loss': loss_arr[-1],\n",
        "            }, './nn_model.pt')\n",
        "\n",
        "from google.colab import files\n",
        "files.download('./net.pt')"
      ],
      "metadata": {
        "id": "G2n3ZM5LpA8a"
      },
      "execution_count": null,
      "outputs": []
    }
  ],
  "metadata": {
    "kernelspec": {
      "display_name": "Python 3",
      "language": "python",
      "name": "python3"
    },
    "language_info": {
      "codemirror_mode": {
        "name": "ipython",
        "version": 3
      },
      "file_extension": ".py",
      "mimetype": "text/x-python",
      "name": "python",
      "nbconvert_exporter": "python",
      "pygments_lexer": "ipython3",
      "version": "3.12.0"
    },
    "colab": {
      "provenance": [],
      "include_colab_link": true
    }
  },
  "nbformat": 4,
  "nbformat_minor": 0
}