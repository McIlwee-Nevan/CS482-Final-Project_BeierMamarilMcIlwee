{
  "cells": [
    {
      "cell_type": "markdown",
      "metadata": {
        "id": "view-in-github",
        "colab_type": "text"
      },
      "source": [
        "<a href=\"https://colab.research.google.com/github/McIlwee-Nevan/CS482-Final-Project_BeierMamarilMcIlwee/blob/main/models.ipynb\" target=\"_parent\"><img src=\"https://colab.research.google.com/assets/colab-badge.svg\" alt=\"Open In Colab\"/></a>"
      ]
    },
    {
      "cell_type": "code",
      "source": [
        "import kagglehub\n",
        "\n",
        "# Download latest version\n",
        "path = kagglehub.dataset_download(\"rtatman/deceptive-opinion-spam-corpus\")\n",
        "\n",
        "print(\"Path to dataset files:\", path)"
      ],
      "metadata": {
        "colab": {
          "base_uri": "https://localhost:8080/"
        },
        "id": "pQHEgK1dFDWa",
        "outputId": "a4bcdcb9-4e9e-47f6-844c-ecd0729aa7b2"
      },
      "execution_count": 1,
      "outputs": [
        {
          "output_type": "stream",
          "name": "stdout",
          "text": [
            "Downloading from https://www.kaggle.com/api/v1/datasets/download/rtatman/deceptive-opinion-spam-corpus?dataset_version_number=2...\n"
          ]
        },
        {
          "output_type": "stream",
          "name": "stderr",
          "text": [
            "100%|██████████| 456k/456k [00:00<00:00, 47.3MB/s]"
          ]
        },
        {
          "output_type": "stream",
          "name": "stdout",
          "text": [
            "Extracting files...\n",
            "Path to dataset files: /root/.cache/kagglehub/datasets/rtatman/deceptive-opinion-spam-corpus/versions/2\n"
          ]
        },
        {
          "output_type": "stream",
          "name": "stderr",
          "text": [
            "\n"
          ]
        }
      ]
    },
    {
      "cell_type": "markdown",
      "metadata": {
        "id": "1EbqW6HY_eDT"
      },
      "source": [
        "Import Dataset and Preprocess"
      ]
    },
    {
      "cell_type": "code",
      "execution_count": 2,
      "metadata": {
        "id": "Tbf8eM3a_eDV"
      },
      "outputs": [],
      "source": [
        "import pandas as pd\n",
        "import numpy as np\n",
        "from sklearn.feature_extraction.text import TfidfVectorizer\n",
        "from sklearn.model_selection import train_test_split\n",
        "\n",
        "data = pd.read_csv(path+\"/deceptive-opinion.csv\")\n",
        "X = np.copy(data['text'])\n",
        "y = np.copy(data['deceptive'])\n",
        "y = np.array(y == 'truthful').astype(int)\n",
        "\n",
        "X_train, X_test, y_train, y_test = train_test_split(\n",
        "    X, y, test_size=0.20, random_state=42)\n",
        "\n",
        "vectorizer = TfidfVectorizer()\n",
        "X_train = vectorizer.fit_transform(X_train)\n",
        "X_test = vectorizer.transform(X_test)\n"
      ]
    },
    {
      "cell_type": "markdown",
      "metadata": {
        "id": "nreddAGk_eDW"
      },
      "source": [
        "Next, build and evaluate the models:"
      ]
    },
    {
      "cell_type": "code",
      "execution_count": 8,
      "metadata": {
        "id": "wkDR3II6_eDX",
        "outputId": "edd67c01-bb0f-48f6-fd5c-a975cbeaba3b",
        "colab": {
          "base_uri": "https://localhost:8080/"
        }
      },
      "outputs": [
        {
          "output_type": "stream",
          "name": "stdout",
          "text": [
            "Linear Regression R^2 Score: 0.5049\n",
            "Decision Tree Accuracy: 0.7156\n",
            "Decision Tree Precision: 0.7305, Recall: 0.7262, F1 Score: 0.7284, Support: nan\n",
            "Random Forest Accuracy: 0.8375\n",
            "Random Forest Precision: 0.8816, Recall: 0.7976, F1 Score: 0.8375, Support: nan\n",
            "XGBoost Accuracy: 0.7969\n",
            "XGBoost Precision: 0.8160, Recall: 0.7917, F1 Score: 0.8036, Support: nan\n"
          ]
        }
      ],
      "source": [
        "import numpy as np\n",
        "from sklearn.metrics import accuracy_score, precision_recall_fscore_support, mean_squared_error, r2_score\n",
        "from sklearn.linear_model import LinearRegression\n",
        "from sklearn.tree import DecisionTreeClassifier\n",
        "from sklearn.ensemble import RandomForestClassifier\n",
        "from xgboost import XGBClassifier\n",
        "\n",
        "# Define classifiers\n",
        "classifiers = [\n",
        "    LinearRegression(),\n",
        "    DecisionTreeClassifier(max_depth=10),\n",
        "    RandomForestClassifier(max_depth=20),\n",
        "    XGBClassifier()\n",
        "]\n",
        "\n",
        "# Define classifier labels\n",
        "classifier_labels = ['Linear Regression', 'Decision Tree', 'Random Forest', 'XGBoost']\n",
        "\n",
        "accuracies = np.zeros(4)\n",
        "precision = np.zeros(4)\n",
        "recall = np.zeros(4)\n",
        "f1 = np.zeros(4)\n",
        "support = np.zeros(4)\n",
        "\n",
        "index = 0\n",
        "for model in classifiers:\n",
        "    model.fit(X_train, y_train)\n",
        "    y_pred = model.predict(X_test)\n",
        "\n",
        "    if isinstance(model, LinearRegression):\n",
        "        accuracies[index] = r2_score(y_test, y_pred)\n",
        "        print(f'{classifier_labels[index]} R^2 Score: {accuracies[index]:.4f}')\n",
        "    else:\n",
        "        accuracies[index] = accuracy_score(y_true=y_test, y_pred=y_pred)\n",
        "        precision_score, recall_score, f1_score, support_score = precision_recall_fscore_support(y_true=y_test, y_pred=y_pred, average='binary')\n",
        "        precision[index] = precision_score\n",
        "        recall[index] = recall_score\n",
        "        f1[index] = f1_score\n",
        "        support[index] = support_score\n",
        "        print(f'{classifier_labels[index]} Accuracy: {accuracies[index]:.4f}')\n",
        "        print(f'{classifier_labels[index]} Precision: {precision[index]:.4f}, Recall: {recall[index]:.4f}, F1 Score: {f1[index]:.4f}}')\n",
        "\n",
        "    index += 1"
      ]
    },
    {
      "cell_type": "markdown",
      "source": [
        "Train and Test Neural Network"
      ],
      "metadata": {
        "id": "DbAXC9aMfD_4"
      }
    },
    {
      "cell_type": "code",
      "source": [],
      "metadata": {
        "id": "NLkeg-b5fGOn"
      },
      "execution_count": null,
      "outputs": []
    },
    {
      "cell_type": "code",
      "execution_count": null,
      "metadata": {
        "id": "8YCxJpGUZRDM"
      },
      "outputs": [],
      "source": [
        "import torch\n",
        "import torch.nn as nn\n",
        "\n",
        "class MultiLayerNet(nn.Module):\n",
        "    def __init__(self,input_dim,output_dim):\n",
        "        super(MultiLayerNet,self).__init__()\n",
        "        self.network = nn.Sequential(\n",
        "            nn.Linear(input_dim,32),\n",
        "            nn.ReLU(),\n",
        "            nn.Linear(32,32),\n",
        "            nn.Softmax(),\n",
        "            nn.Linear(32,output_dim)\n",
        "        )\n",
        "\n",
        "    def forward(self,x):\n",
        "        out = None\n",
        "        out = self.network(x)\n",
        "        return out\n"
      ]
    }
  ],
  "metadata": {
    "kernelspec": {
      "display_name": "Python 3",
      "language": "python",
      "name": "python3"
    },
    "language_info": {
      "codemirror_mode": {
        "name": "ipython",
        "version": 3
      },
      "file_extension": ".py",
      "mimetype": "text/x-python",
      "name": "python",
      "nbconvert_exporter": "python",
      "pygments_lexer": "ipython3",
      "version": "3.12.0"
    },
    "colab": {
      "provenance": [],
      "include_colab_link": true
    }
  },
  "nbformat": 4,
  "nbformat_minor": 0
}