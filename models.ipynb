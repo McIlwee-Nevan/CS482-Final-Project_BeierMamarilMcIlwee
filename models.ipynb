{
  "cells": [
    {
      "cell_type": "code",
      "source": [
        "import kagglehub\n",
        "\n",
        "# Download latest version\n",
        "path = kagglehub.dataset_download(\"rtatman/deceptive-opinion-spam-corpus\")\n",
        "\n",
        "print(\"Path to dataset files:\", path)"
      ],
      "metadata": {
        "colab": {
          "base_uri": "https://localhost:8080/"
        },
        "id": "pQHEgK1dFDWa",
        "outputId": "ed2bec41-3daf-4cff-951a-5d3475cfde59"
      },
      "execution_count": 1,
      "outputs": [
        {
          "output_type": "stream",
          "name": "stdout",
          "text": [
            "Downloading from https://www.kaggle.com/api/v1/datasets/download/rtatman/deceptive-opinion-spam-corpus?dataset_version_number=2...\n"
          ]
        },
        {
          "output_type": "stream",
          "name": "stderr",
          "text": [
            "100%|██████████| 456k/456k [00:00<00:00, 39.5MB/s]"
          ]
        },
        {
          "output_type": "stream",
          "name": "stdout",
          "text": [
            "Extracting files...\n",
            "Path to dataset files: /root/.cache/kagglehub/datasets/rtatman/deceptive-opinion-spam-corpus/versions/2\n"
          ]
        },
        {
          "output_type": "stream",
          "name": "stderr",
          "text": [
            "\n"
          ]
        }
      ]
    },
    {
      "cell_type": "markdown",
      "metadata": {
        "id": "1EbqW6HY_eDT"
      },
      "source": [
        "Import Dataset and Preprocess"
      ]
    },
    {
      "cell_type": "code",
      "execution_count": 2,
      "metadata": {
        "id": "Tbf8eM3a_eDV"
      },
      "outputs": [],
      "source": [
        "import pandas as pd\n",
        "import numpy as np\n",
        "from sklearn.feature_extraction.text import TfidfVectorizer\n",
        "from sklearn.model_selection import train_test_split\n",
        "\n",
        "data = pd.read_csv(path+\"/deceptive-opinion.csv\")\n",
        "X = np.copy(data['text'])\n",
        "y = np.copy(data['deceptive'])\n",
        "y = np.array(y == 'truthful').astype(int)\n",
        "\n",
        "X_train, X_test, y_train, y_test = train_test_split(\n",
        "    X, y, test_size=0.20, random_state=42)\n",
        "\n",
        "vectorizer = TfidfVectorizer()\n",
        "X_train = vectorizer.fit_transform(X_train)\n",
        "X_test = vectorizer.transform(X_test)\n"
      ]
    },
    {
      "cell_type": "markdown",
      "metadata": {
        "id": "nreddAGk_eDW"
      },
      "source": [
        "Next, build and evaluate the models:"
      ]
    },
    {
      "cell_type": "code",
      "execution_count": 7,
      "metadata": {
        "id": "wkDR3II6_eDX",
        "outputId": "c3b6fcb9-6156-4924-b12c-77384d8eb5c4",
        "colab": {
          "base_uri": "https://localhost:8080/"
        }
      },
      "outputs": [
        {
          "output_type": "stream",
          "name": "stdout",
          "text": [
            "Linear Regression Classifier Accuracy 0.8688\n",
            "Naive Bayes Accuracy 0.8281\n",
            "K-Nearest Neighbors Accuracy 0.6781\n",
            "Decision Tree Accuracy 0.7156\n",
            "Random Forest Accuracy 0.8406\n",
            "AdaBoost Accuracy 0.7937\n",
            "XGBoost Accuracy 0.7969\n"
          ]
        }
      ],
      "source": [
        "from sklearn.metrics import accuracy_score\n",
        "from sklearn.svm import LinearSVC\n",
        "from sklearn.naive_bayes import MultinomialNB\n",
        "from sklearn.neighbors import KNeighborsClassifier\n",
        "from sklearn.ensemble import RandomForestClassifier\n",
        "from sklearn.ensemble import AdaBoostClassifier\n",
        "from sklearn.tree import DecisionTreeClassifier\n",
        "import xgboost as xgb\n",
        "from xgboost import XGBClassifier\n",
        "\n",
        "classifiers = [LinearSVC(), MultinomialNB(), KNeighborsClassifier(), DecisionTreeClassifier(max_depth=10), RandomForestClassifier(max_depth=20), AdaBoostClassifier(algorithm='SAMME', estimator=DecisionTreeClassifier(max_depth=4)), XGBClassifier()]\n",
        "classifier_labels = ['Linear Regression Classifier', 'Naive Bayes', 'K-Nearest Neighbors', 'Decision Tree', 'Random Forest', 'AdaBoost', 'XGBoost']\n",
        "accuracies = np.zeros(7)\n",
        "\n",
        "index = 0\n",
        "for model in classifiers:\n",
        "    model = model.fit(X_train, y_train)\n",
        "    y_pred = model.predict(X_test)\n",
        "    accuracies[index] = accuracy_score(y_true=y_test, y_pred=y_pred)\n",
        "    print('%s Accuracy %.4f' % (classifier_labels[index], accuracies[index]))\n",
        "    index += 1\n"
      ]
    },
    {
      "cell_type": "markdown",
      "source": [
        "Train and Test Neural Network"
      ],
      "metadata": {
        "id": "gI0zLtYCnV_-"
      }
    },
    {
      "cell_type": "code",
      "source": [],
      "metadata": {
        "id": "cmd53VHgnVao"
      },
      "execution_count": null,
      "outputs": []
    },
    {
      "cell_type": "markdown",
      "source": [
        "Additional Metrics"
      ],
      "metadata": {
        "id": "jbwBIyV8o7sn"
      }
    },
    {
      "cell_type": "code",
      "source": [
        "from sklearn.metrics import precision_recall_fscore_support"
      ],
      "metadata": {
        "id": "Lr5M72HVo9n2"
      },
      "execution_count": null,
      "outputs": []
    },
    {
      "cell_type": "markdown",
      "source": [
        "Plot of"
      ],
      "metadata": {
        "id": "X7zMJOrKnbGG"
      }
    },
    {
      "cell_type": "code",
      "source": [],
      "metadata": {
        "id": "LAS-T7x8naY_"
      },
      "execution_count": null,
      "outputs": []
    }
  ],
  "metadata": {
    "kernelspec": {
      "display_name": "Python 3",
      "language": "python",
      "name": "python3"
    },
    "language_info": {
      "codemirror_mode": {
        "name": "ipython",
        "version": 3
      },
      "file_extension": ".py",
      "mimetype": "text/x-python",
      "name": "python",
      "nbconvert_exporter": "python",
      "pygments_lexer": "ipython3",
      "version": "3.12.0"
    },
    "colab": {
      "provenance": []
    }
  },
  "nbformat": 4,
  "nbformat_minor": 0
}