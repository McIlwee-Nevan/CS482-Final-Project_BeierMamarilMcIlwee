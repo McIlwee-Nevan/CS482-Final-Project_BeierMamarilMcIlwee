{
  "cells": [
    {
      "cell_type": "markdown",
      "metadata": {
        "id": "view-in-github",
        "colab_type": "text"
      },
      "source": [
        "<a href=\"https://colab.research.google.com/github/McIlwee-Nevan/CS482-Final-Project_BeierMamarilMcIlwee/blob/main/models.ipynb\" target=\"_parent\"><img src=\"https://colab.research.google.com/assets/colab-badge.svg\" alt=\"Open In Colab\"/></a>"
      ]
    },
    {
      "cell_type": "code",
      "source": [
        "import kagglehub\n",
        "\n",
        "# Download latest version\n",
        "path = kagglehub.dataset_download(\"rtatman/deceptive-opinion-spam-corpus\")\n",
        "\n",
        "print(\"Path to dataset files:\", path)"
      ],
      "metadata": {
        "colab": {
          "base_uri": "https://localhost:8080/"
        },
        "id": "pQHEgK1dFDWa",
        "outputId": "f6cf9362-2da6-46cd-c728-f04ea4c52d25"
      },
      "execution_count": 1,
      "outputs": [
        {
          "output_type": "stream",
          "name": "stdout",
          "text": [
            "Downloading from https://www.kaggle.com/api/v1/datasets/download/rtatman/deceptive-opinion-spam-corpus?dataset_version_number=2...\n"
          ]
        },
        {
          "output_type": "stream",
          "name": "stderr",
          "text": [
            "100%|██████████| 456k/456k [00:00<00:00, 20.9MB/s]"
          ]
        },
        {
          "output_type": "stream",
          "name": "stdout",
          "text": [
            "Extracting files...\n",
            "Path to dataset files: /root/.cache/kagglehub/datasets/rtatman/deceptive-opinion-spam-corpus/versions/2\n"
          ]
        },
        {
          "output_type": "stream",
          "name": "stderr",
          "text": [
            "\n"
          ]
        }
      ]
    },
    {
      "cell_type": "markdown",
      "metadata": {
        "id": "1EbqW6HY_eDT"
      },
      "source": [
        "Import Dataset and Preprocess"
      ]
    },
    {
      "cell_type": "code",
      "execution_count": 2,
      "metadata": {
        "id": "Tbf8eM3a_eDV"
      },
      "outputs": [],
      "source": [
        "import pandas as pd\n",
        "import numpy as np\n",
        "from sklearn.feature_extraction.text import TfidfVectorizer\n",
        "from sklearn.model_selection import train_test_split\n",
        "\n",
        "data = pd.read_csv(path+\"/deceptive-opinion.csv\")\n",
        "X = np.copy(data['text'])\n",
        "y = np.copy(data['deceptive'])\n",
        "y = np.array(y == 'truthful').astype(int)\n",
        "\n",
        "X_train, X_test, y_train, y_test = train_test_split(\n",
        "    X, y, test_size=0.20, random_state=42)\n",
        "\n",
        "vectorizer = TfidfVectorizer()\n",
        "X_train = vectorizer.fit_transform(X_train)\n",
        "X_test = vectorizer.transform(X_test)\n"
      ]
    },
    {
      "cell_type": "markdown",
      "metadata": {
        "id": "nreddAGk_eDW"
      },
      "source": [
        "Next, build and evaluate the models:"
      ]
    },
    {
      "cell_type": "code",
      "execution_count": 3,
      "metadata": {
        "id": "wkDR3II6_eDX",
        "outputId": "78ab14ea-2e44-4bd8-8b57-d76db544025e",
        "colab": {
          "base_uri": "https://localhost:8080/"
        }
      },
      "outputs": [
        {
          "output_type": "stream",
          "name": "stdout",
          "text": [
            "Linear Regression R^2 Score: 0.5049\n",
            "Decision Tree Accuracy: 0.7000\n",
            "Decision Tree Precision: 0.7143, Recall: 0.7143, F1 Score: 0.7143\n",
            "Random Forest Accuracy: 0.8219\n",
            "Random Forest Precision: 0.8627, Recall: 0.7857, F1 Score: 0.8224\n",
            "XGBoost Accuracy: 0.7969\n",
            "XGBoost Precision: 0.8160, Recall: 0.7917, F1 Score: 0.8036\n"
          ]
        }
      ],
      "source": [
        "import numpy as np\n",
        "from sklearn.metrics import accuracy_score, precision_recall_fscore_support, mean_squared_error, r2_score\n",
        "from sklearn.linear_model import LinearRegression\n",
        "from sklearn.tree import DecisionTreeClassifier\n",
        "from sklearn.ensemble import RandomForestClassifier\n",
        "from xgboost import XGBClassifier\n",
        "\n",
        "# Define classifiers\n",
        "classifiers = [\n",
        "    LinearRegression(),\n",
        "    DecisionTreeClassifier(max_depth=10),\n",
        "    RandomForestClassifier(max_depth=20),\n",
        "    XGBClassifier()\n",
        "]\n",
        "\n",
        "# Define classifier labels\n",
        "classifier_labels = ['Linear Regression', 'Decision Tree', 'Random Forest', 'XGBoost']\n",
        "\n",
        "accuracies = np.zeros(4)\n",
        "precision = np.zeros(4)\n",
        "recall = np.zeros(4)\n",
        "f1 = np.zeros(4)\n",
        "support = np.zeros(4)\n",
        "\n",
        "index = 0\n",
        "for model in classifiers:\n",
        "    model.fit(X_train, y_train)\n",
        "    y_pred = model.predict(X_test)\n",
        "\n",
        "    if isinstance(model, LinearRegression):\n",
        "        accuracies[index] = r2_score(y_test, y_pred)\n",
        "        print(f'{classifier_labels[index]} R^2 Score: {accuracies[index]:.4f}')\n",
        "    else:\n",
        "        accuracies[index] = accuracy_score(y_true=y_test, y_pred=y_pred)\n",
        "        precision_score, recall_score, f1_score, support_score = precision_recall_fscore_support(y_true=y_test, y_pred=y_pred, average='binary')\n",
        "        precision[index] = precision_score\n",
        "        recall[index] = recall_score\n",
        "        f1[index] = f1_score\n",
        "        support[index] = support_score\n",
        "        print(f'{classifier_labels[index]} Accuracy: {accuracies[index]:.4f}')\n",
        "        print(f'{classifier_labels[index]} Precision: {precision[index]:.4f}, Recall: {recall[index]:.4f}, F1 Score: {f1[index]:.4f}')\n",
        "\n",
        "    index += 1"
      ]
    },
    {
      "cell_type": "markdown",
      "source": [
        "Train and Test Neural Network"
      ],
      "metadata": {
        "id": "DbAXC9aMfD_4"
      }
    },
    {
      "cell_type": "code",
      "source": [
        "import torch\n",
        "import torch.nn as nn\n",
        "from torch.utils.data import DataLoader\n",
        "from sklearn.metrics import classification_report"
      ],
      "metadata": {
        "id": "NLkeg-b5fGOn"
      },
      "execution_count": 4,
      "outputs": []
    },
    {
      "cell_type": "code",
      "source": [
        "device = torch.device('cuda' if torch.cuda.is_available() else 'cpu')"
      ],
      "metadata": {
        "id": "QJff4ro_oBF6"
      },
      "execution_count": 5,
      "outputs": []
    },
    {
      "cell_type": "code",
      "source": [
        "# Create tensors from data set, create data loaders\n",
        "X_test_tensor, X_val, y_test_tensor, y_val = train_test_split(X_test, y_test, train_size=0.5)\n",
        "\n",
        "X_train_tensor = torch.from_numpy(X_train.todense()).to(torch.float32)\n",
        "X_test_tensor = torch.from_numpy(X_test_tensor.todense()).to(torch.float32)\n",
        "X_val_tensor = torch.from_numpy(X_val.todense()).to(torch.float32)\n",
        "y_train_tensor = torch.from_numpy(y_train)\n",
        "y_test_tensor = torch.from_numpy(y_test_tensor)\n",
        "y_val_tensor = torch.from_numpy(y_val)\n",
        "\n",
        "train_loader = DataLoader(list(zip(X_train_tensor, y_train_tensor)), batch_size=64, shuffle=True)\n",
        "val_loader = DataLoader(list(zip(X_val_tensor, y_val_tensor)), batch_size=64, shuffle=True)\n",
        "test_loader = DataLoader(list(zip(X_test_tensor, y_test_tensor)), batch_size=64, shuffle=True)"
      ],
      "metadata": {
        "id": "0jLixnw7oBU9"
      },
      "execution_count": 6,
      "outputs": []
    },
    {
      "cell_type": "code",
      "execution_count": 7,
      "metadata": {
        "id": "8YCxJpGUZRDM"
      },
      "outputs": [],
      "source": [
        "class NeuralNet(nn.Module):\n",
        "    def __init__(self, input_dim : int):\n",
        "        super(NeuralNet, self).__init__()\n",
        "\n",
        "        self.fc1 = nn.Linear(input_dim, 400)\n",
        "        self.fc2 = nn.Linear(400, 200)\n",
        "        self.fc3 = nn.Linear(200, 100)\n",
        "        self.fc4 = nn.Linear(100, 2)\n",
        "\n",
        "        self.relu = nn.ReLU()\n",
        "\n",
        "    def forward(self, x):\n",
        "        out = self.relu(self.fc1(x))\n",
        "        out = self.relu(self.fc2(out))\n",
        "        out = self.relu(self.fc3(out))\n",
        "        out = self.relu(self.fc4(out))\n",
        "\n",
        "        return out"
      ]
    },
    {
      "cell_type": "code",
      "source": [
        "# Initialize model and choose criterion/optimizer\n",
        "nn_model = NeuralNet(8703)\n",
        "optimizer = torch.optim.Adam(nn_model.parameters(), lr=0.001)\n",
        "criterion = nn.CrossEntropyLoss()"
      ],
      "metadata": {
        "id": "G6MfJF0_oVyg"
      },
      "execution_count": 8,
      "outputs": []
    },
    {
      "cell_type": "code",
      "source": [
        "# Train model\n",
        "num_epochs = 10\n",
        "train_loss = np.zeros(num_epochs)\n",
        "val_loss = np.zeros(num_epochs)\n",
        "\n",
        "for epoch in range(num_epochs):\n",
        "    nn_model.train()\n",
        "\n",
        "    for (x, y) in train_loader:\n",
        "        x, y = x.to(device), y.to(device)\n",
        "\n",
        "        z = nn_model.forward(x)\n",
        "        loss_1 = criterion(z, y)\n",
        "        optimizer.zero_grad()\n",
        "        loss_1.backward()\n",
        "        optimizer.step()\n",
        "\n",
        "    nn_model.eval()\n",
        "\n",
        "    for (x,y) in val_loader:\n",
        "        x, y = x.to(device), y.to(device)\n",
        "\n",
        "        z = nn_model(x)\n",
        "        loss_2 = criterion(z, y)\n",
        "\n",
        "    print(f'Epoch [{epoch+1}/{num_epochs}], Train Loss: {loss_1.item():.4f}, Validation Loss: {loss_2.item():.4f}')\n",
        "    train_loss[epoch] = loss_1.item()\n",
        "    val_loss[epoch] = loss_2.item()"
      ],
      "metadata": {
        "id": "W9Fjj-p1od0x",
        "outputId": "02c41f9f-a7a9-4303-fe1f-b9d59da34e7d",
        "colab": {
          "base_uri": "https://localhost:8080/"
        }
      },
      "execution_count": 11,
      "outputs": [
        {
          "output_type": "stream",
          "name": "stdout",
          "text": [
            "Epoch [1/10], Train Loss: 0.0116, Validation Loss: 0.5306107401847839\n",
            "Epoch [2/10], Train Loss: 0.0024, Validation Loss: 0.7374682426452637\n",
            "Epoch [3/10], Train Loss: 0.0004, Validation Loss: 0.3318140208721161\n",
            "Epoch [4/10], Train Loss: 0.0002, Validation Loss: 0.7336854338645935\n",
            "Epoch [5/10], Train Loss: 0.0001, Validation Loss: 0.07804688066244125\n",
            "Epoch [6/10], Train Loss: 0.0001, Validation Loss: 0.4625616669654846\n",
            "Epoch [7/10], Train Loss: 0.0001, Validation Loss: 0.5101990699768066\n",
            "Epoch [8/10], Train Loss: 0.0000, Validation Loss: 0.3489060401916504\n",
            "Epoch [9/10], Train Loss: 0.0001, Validation Loss: 0.3650752007961273\n",
            "Epoch [10/10], Train Loss: 0.0000, Validation Loss: 0.5003432035446167\n"
          ]
        }
      ]
    },
    {
      "cell_type": "code",
      "source": [
        "def evaluate_model(model, data_loader):\n",
        "    model.eval()\n",
        "    y_true = []\n",
        "    y_pred = []\n",
        "    with torch.no_grad():\n",
        "        for (x, y) in data_loader:\n",
        "            x, y = x.to(device), y.to(device)  # Move data to GPU\n",
        "            z = model(x)\n",
        "            _, predicted = torch.max(z, 1)\n",
        "            y_true.extend(y.cpu().numpy())\n",
        "            y_pred.extend(predicted.cpu().numpy())\n",
        "    return y_true, y_pred"
      ],
      "metadata": {
        "id": "bWnm0PC7oi79"
      },
      "execution_count": 12,
      "outputs": []
    },
    {
      "cell_type": "code",
      "source": [
        "# Get accuracy and print report\n",
        "y_true, y_pred = evaluate_model(nn_model, test_loader)\n",
        "print(\"Classification Report: \\n\", classification_report(y_true, y_pred))\n",
        "print(\"Accuracy: \", accuracy_score(y_true, y_pred))"
      ],
      "metadata": {
        "id": "Pyx5jiIFo1kT",
        "outputId": "e42f262f-999e-4abc-93eb-fc637ebf62b1",
        "colab": {
          "base_uri": "https://localhost:8080/"
        }
      },
      "execution_count": 14,
      "outputs": [
        {
          "output_type": "stream",
          "name": "stdout",
          "text": [
            "Classification Report: \n",
            "               precision    recall  f1-score   support\n",
            "\n",
            "           0       0.88      0.93      0.91        87\n",
            "           1       0.91      0.85      0.88        73\n",
            "\n",
            "    accuracy                           0.89       160\n",
            "   macro avg       0.90      0.89      0.89       160\n",
            "weighted avg       0.89      0.89      0.89       160\n",
            "\n",
            "Accuracy:  0.89375\n"
          ]
        }
      ]
    },
    {
      "cell_type": "code",
      "source": [
        "# Save epochs, loss, and parameters\n",
        "torch.save({\n",
        "            'epoch': num_epochs,\n",
        "            'model_state_dict': nn_model.state_dict(),\n",
        "            'optimizer_state_dict': optimizer.state_dict(),\n",
        "            'train loss': train_loss[-1],\n",
        "            'validation loss': val_loss[-1]\n",
        "            }, './nn_model.pt')\n",
        "\n",
        "from google.colab import files\n",
        "files.download('./nn_model.pt')"
      ],
      "metadata": {
        "id": "G2n3ZM5LpA8a",
        "outputId": "5d8f4a9c-97d1-4634-d5b4-d41f13652e10",
        "colab": {
          "base_uri": "https://localhost:8080/",
          "height": 17
        }
      },
      "execution_count": 16,
      "outputs": [
        {
          "output_type": "display_data",
          "data": {
            "text/plain": [
              "<IPython.core.display.Javascript object>"
            ],
            "application/javascript": [
              "\n",
              "    async function download(id, filename, size) {\n",
              "      if (!google.colab.kernel.accessAllowed) {\n",
              "        return;\n",
              "      }\n",
              "      const div = document.createElement('div');\n",
              "      const label = document.createElement('label');\n",
              "      label.textContent = `Downloading \"${filename}\": `;\n",
              "      div.appendChild(label);\n",
              "      const progress = document.createElement('progress');\n",
              "      progress.max = size;\n",
              "      div.appendChild(progress);\n",
              "      document.body.appendChild(div);\n",
              "\n",
              "      const buffers = [];\n",
              "      let downloaded = 0;\n",
              "\n",
              "      const channel = await google.colab.kernel.comms.open(id);\n",
              "      // Send a message to notify the kernel that we're ready.\n",
              "      channel.send({})\n",
              "\n",
              "      for await (const message of channel.messages) {\n",
              "        // Send a message to notify the kernel that we're ready.\n",
              "        channel.send({})\n",
              "        if (message.buffers) {\n",
              "          for (const buffer of message.buffers) {\n",
              "            buffers.push(buffer);\n",
              "            downloaded += buffer.byteLength;\n",
              "            progress.value = downloaded;\n",
              "          }\n",
              "        }\n",
              "      }\n",
              "      const blob = new Blob(buffers, {type: 'application/binary'});\n",
              "      const a = document.createElement('a');\n",
              "      a.href = window.URL.createObjectURL(blob);\n",
              "      a.download = filename;\n",
              "      div.appendChild(a);\n",
              "      a.click();\n",
              "      div.remove();\n",
              "    }\n",
              "  "
            ]
          },
          "metadata": {}
        },
        {
          "output_type": "display_data",
          "data": {
            "text/plain": [
              "<IPython.core.display.Javascript object>"
            ],
            "application/javascript": [
              "download(\"download_16167299-d7d9-4cec-b27e-12ea0883a83f\", \"nn_model.pt\", 42994714)"
            ]
          },
          "metadata": {}
        }
      ]
    },
    {
      "cell_type": "markdown",
      "source": [
        "# Plots:"
      ],
      "metadata": {
        "id": "Lk_1upLzjINL"
      }
    },
    {
      "cell_type": "code",
      "source": [
        "import matplotlib.pyplot as plt"
      ],
      "metadata": {
        "id": "GAaImEWJjEhx"
      },
      "execution_count": 17,
      "outputs": []
    },
    {
      "cell_type": "code",
      "source": [
        "epochs = range(1, num_epochs + 1)\n",
        "# Plot and label the training and validation loss values\n",
        "plt.plot(epochs, train_loss, label='Training Loss', marker='s')\n",
        "plt.plot(epochs, val_loss, label='Validation Loss', marker='s')\n",
        "\n",
        "# Add in a title and axes labels\n",
        "plt.title('Training and Validation Loss')\n",
        "plt.xlabel('Epochs')\n",
        "plt.ylabel('Loss')\n",
        "\n",
        "# Set the tick locations\n",
        "# plt.xticks(np.arange(0, num_epochs, 10))\n",
        "\n",
        "# Display the plot\n",
        "plt.legend(loc='best')\n",
        "plt.grid(linestyle = '--', linewidth = 0.5)\n",
        "plt.show()"
      ],
      "metadata": {
        "id": "w6BnWq7ViPkB",
        "outputId": "ea1a090f-5f17-48de-a96b-297e580fdbed",
        "colab": {
          "base_uri": "https://localhost:8080/",
          "height": 472
        }
      },
      "execution_count": 30,
      "outputs": [
        {
          "output_type": "display_data",
          "data": {
            "text/plain": [
              "<Figure size 640x480 with 1 Axes>"
            ],
            "image/png": "[encoded data removed]"
          },
          "metadata": {}
        }
      ]
    },
    {
      "cell_type": "markdown",
      "source": [
        "# Command Line Interface:"
      ],
      "metadata": {
        "id": "83zGDVvpi5ZJ"
      }
    },
    {
      "cell_type": "code",
      "source": [
        "import torch.nn.functional as F\n",
        "\n",
        "user_review = input(\"Enter a review: \")\n",
        "\n",
        "user_review = vectorizer.transform([user_review])\n",
        "user_review = torch.from_numpy(user_review.todense()).to(torch.float32)\n",
        "\n",
        "neural_network = NeuralNet(8703)\n",
        "\n",
        "output = neural_network.forward(user_review)\n",
        "\n",
        "probabilities = F.softmax(output, dim=1)\n",
        "\n",
        "predicted_class = torch.argmax(probabilities, dim=1).item()\n",
        "\n",
        "print(\"truthful\" if not predicted_class else \"deceptive\")"
      ],
      "metadata": {
        "id": "_B5nuAWuiyh6",
        "outputId": "a8ff519e-c019-4ab6-9fa5-8c1cf552e4ea",
        "colab": {
          "base_uri": "https://localhost:8080/"
        }
      },
      "execution_count": 21,
      "outputs": [
        {
          "output_type": "stream",
          "name": "stdout",
          "text": [
            "Enter a review: Clean, freshly beautifully designed and we had a great experience. The representatives of the hotel friendly and helpful. This is the second time we stayed here and we love it.\n",
            "truthful\n"
          ]
        }
      ]
    }
  ],
  "metadata": {
    "kernelspec": {
      "display_name": "Python 3",
      "name": "python3"
    },
    "language_info": {
      "codemirror_mode": {
        "name": "ipython",
        "version": 3
      },
      "file_extension": ".py",
      "mimetype": "text/x-python",
      "name": "python",
      "nbconvert_exporter": "python",
      "pygments_lexer": "ipython3",
      "version": "3.12.0"
    },
    "colab": {
      "provenance": [],
      "include_colab_link": true
    }
  },
  "nbformat": 4,
  "nbformat_minor": 0
}